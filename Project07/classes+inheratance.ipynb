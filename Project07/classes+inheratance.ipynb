{
 "cells": [
  {
   "cell_type": "code",
   "execution_count": null,
   "metadata": {},
   "outputs": [],
   "source": [
    "#overloaded operators \n",
    "\n",
    "#  v1 + v2 \n",
    "#  internally looks like \n",
    "# v1.__add__(v2)\n",
    "\n",
    "class Clock: \n",
    "    def __init__(self,hours=0,minutes=0): \n",
    "        # do conversion to keep hours and minutes in the right range\n",
    "        self.minutes = minutes % 60\n",
    "        self.hours = (hours + minutes // 60) % 24\n",
    "    def __add__(self,rhs_clock):\n",
    "        hours = self.hours\n",
    "        return Clock(self.hours + rhs_clock.hours, self.minutes + rhs_clock.minutes)\n",
    "\n",
    "# inheritance \n",
    "class Myclass: \n",
    "    print(\"Myclass\")\n",
    "class Myclass2(Myclass):\n",
    "    print(\"Myclass2\")\n",
    "class Myclass3(Myclass2):\n",
    "    print(\"Myclass3\")\n",
    "\n",
    "# Used for making a new version of a class in order to be able to add new methodas to such a class. \n",
    "# when a new class is created, and uses the old class it inherits all the methods of the parent class."
   ]
  },
  {
   "cell_type": "markdown",
   "metadata": {},
   "source": [
    "Python already checksif radd method exists and then prints the statement "
   ]
  }
 ],
 "metadata": {
  "kernelspec": {
   "display_name": "Python 3",
   "language": "python",
   "name": "python3"
  },
  "language_info": {
   "name": "python",
   "version": "3.12.5"
  }
 },
 "nbformat": 4,
 "nbformat_minor": 2
}
